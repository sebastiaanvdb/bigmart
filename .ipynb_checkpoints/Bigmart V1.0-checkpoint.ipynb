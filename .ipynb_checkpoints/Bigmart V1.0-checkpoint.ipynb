{
 "cells": [
  {
   "cell_type": "markdown",
   "metadata": {},
   "source": [
    "# Bigmart regression"
   ]
  },
  {
   "cell_type": "markdown",
   "metadata": {},
   "source": [
    "import modules"
   ]
  },
  {
   "cell_type": "code",
   "execution_count": 1,
   "metadata": {
    "collapsed": true
   },
   "outputs": [],
   "source": [
    "import pandas as pd\n",
    "import numpy as np\n",
    "import matplotlib.pyplot as plt"
   ]
  },
  {
   "cell_type": "markdown",
   "metadata": {},
   "source": [
    "Import data"
   ]
  },
  {
   "cell_type": "code",
   "execution_count": 2,
   "metadata": {},
   "outputs": [
    {
     "name": "stdout",
     "output_type": "stream",
     "text": [
      "(8523, 12)\n"
     ]
    },
    {
     "data": {
      "text/html": [
       "<div>\n",
       "<table border=\"1\" class=\"dataframe\">\n",
       "  <thead>\n",
       "    <tr style=\"text-align: right;\">\n",
       "      <th></th>\n",
       "      <th>Item_Identifier</th>\n",
       "      <th>Item_Weight</th>\n",
       "      <th>Item_Fat_Content</th>\n",
       "      <th>Item_Visibility</th>\n",
       "      <th>Item_Type</th>\n",
       "      <th>Item_MRP</th>\n",
       "      <th>Outlet_Identifier</th>\n",
       "      <th>Outlet_Establishment_Year</th>\n",
       "      <th>Outlet_Size</th>\n",
       "      <th>Outlet_Location_Type</th>\n",
       "      <th>Outlet_Type</th>\n",
       "      <th>Item_Outlet_Sales</th>\n",
       "    </tr>\n",
       "  </thead>\n",
       "  <tbody>\n",
       "    <tr>\n",
       "      <th>0</th>\n",
       "      <td>FDA15</td>\n",
       "      <td>9.30</td>\n",
       "      <td>Low Fat</td>\n",
       "      <td>0.016047</td>\n",
       "      <td>Dairy</td>\n",
       "      <td>249.8092</td>\n",
       "      <td>OUT049</td>\n",
       "      <td>1999</td>\n",
       "      <td>Medium</td>\n",
       "      <td>Tier 1</td>\n",
       "      <td>Supermarket Type1</td>\n",
       "      <td>3735.1380</td>\n",
       "    </tr>\n",
       "    <tr>\n",
       "      <th>1</th>\n",
       "      <td>DRC01</td>\n",
       "      <td>5.92</td>\n",
       "      <td>Regular</td>\n",
       "      <td>0.019278</td>\n",
       "      <td>Soft Drinks</td>\n",
       "      <td>48.2692</td>\n",
       "      <td>OUT018</td>\n",
       "      <td>2009</td>\n",
       "      <td>Medium</td>\n",
       "      <td>Tier 3</td>\n",
       "      <td>Supermarket Type2</td>\n",
       "      <td>443.4228</td>\n",
       "    </tr>\n",
       "    <tr>\n",
       "      <th>2</th>\n",
       "      <td>FDN15</td>\n",
       "      <td>17.50</td>\n",
       "      <td>Low Fat</td>\n",
       "      <td>0.016760</td>\n",
       "      <td>Meat</td>\n",
       "      <td>141.6180</td>\n",
       "      <td>OUT049</td>\n",
       "      <td>1999</td>\n",
       "      <td>Medium</td>\n",
       "      <td>Tier 1</td>\n",
       "      <td>Supermarket Type1</td>\n",
       "      <td>2097.2700</td>\n",
       "    </tr>\n",
       "    <tr>\n",
       "      <th>3</th>\n",
       "      <td>FDX07</td>\n",
       "      <td>19.20</td>\n",
       "      <td>Regular</td>\n",
       "      <td>0.000000</td>\n",
       "      <td>Fruits and Vegetables</td>\n",
       "      <td>182.0950</td>\n",
       "      <td>OUT010</td>\n",
       "      <td>1998</td>\n",
       "      <td>NaN</td>\n",
       "      <td>Tier 3</td>\n",
       "      <td>Grocery Store</td>\n",
       "      <td>732.3800</td>\n",
       "    </tr>\n",
       "    <tr>\n",
       "      <th>4</th>\n",
       "      <td>NCD19</td>\n",
       "      <td>8.93</td>\n",
       "      <td>Low Fat</td>\n",
       "      <td>0.000000</td>\n",
       "      <td>Household</td>\n",
       "      <td>53.8614</td>\n",
       "      <td>OUT013</td>\n",
       "      <td>1987</td>\n",
       "      <td>High</td>\n",
       "      <td>Tier 3</td>\n",
       "      <td>Supermarket Type1</td>\n",
       "      <td>994.7052</td>\n",
       "    </tr>\n",
       "  </tbody>\n",
       "</table>\n",
       "</div>"
      ],
      "text/plain": [
       "  Item_Identifier  Item_Weight Item_Fat_Content  Item_Visibility  \\\n",
       "0           FDA15         9.30          Low Fat         0.016047   \n",
       "1           DRC01         5.92          Regular         0.019278   \n",
       "2           FDN15        17.50          Low Fat         0.016760   \n",
       "3           FDX07        19.20          Regular         0.000000   \n",
       "4           NCD19         8.93          Low Fat         0.000000   \n",
       "\n",
       "               Item_Type  Item_MRP Outlet_Identifier  \\\n",
       "0                  Dairy  249.8092            OUT049   \n",
       "1            Soft Drinks   48.2692            OUT018   \n",
       "2                   Meat  141.6180            OUT049   \n",
       "3  Fruits and Vegetables  182.0950            OUT010   \n",
       "4              Household   53.8614            OUT013   \n",
       "\n",
       "   Outlet_Establishment_Year Outlet_Size Outlet_Location_Type  \\\n",
       "0                       1999      Medium               Tier 1   \n",
       "1                       2009      Medium               Tier 3   \n",
       "2                       1999      Medium               Tier 1   \n",
       "3                       1998         NaN               Tier 3   \n",
       "4                       1987        High               Tier 3   \n",
       "\n",
       "         Outlet_Type  Item_Outlet_Sales  \n",
       "0  Supermarket Type1          3735.1380  \n",
       "1  Supermarket Type2           443.4228  \n",
       "2  Supermarket Type1          2097.2700  \n",
       "3      Grocery Store           732.3800  \n",
       "4  Supermarket Type1           994.7052  "
      ]
     },
     "execution_count": 2,
     "metadata": {},
     "output_type": "execute_result"
    }
   ],
   "source": [
    "bigmart = pd.read_csv('bigmart.csv')\n",
    "print(bigmart.shape)\n",
    "bigmart.head()"
   ]
  },
  {
   "cell_type": "markdown",
   "metadata": {},
   "source": [
    "Check missing data"
   ]
  },
  {
   "cell_type": "code",
   "execution_count": 3,
   "metadata": {},
   "outputs": [
    {
     "data": {
      "text/plain": [
       "Item_Identifier                 0\n",
       "Item_Weight                  1463\n",
       "Item_Fat_Content                0\n",
       "Item_Visibility                 0\n",
       "Item_Type                       0\n",
       "Item_MRP                        0\n",
       "Outlet_Identifier               0\n",
       "Outlet_Establishment_Year       0\n",
       "Outlet_Size                  2410\n",
       "Outlet_Location_Type            0\n",
       "Outlet_Type                     0\n",
       "Item_Outlet_Sales               0\n",
       "dtype: int64"
      ]
     },
     "execution_count": 3,
     "metadata": {},
     "output_type": "execute_result"
    }
   ],
   "source": [
    "bigmart.apply(lambda x: sum(x.isnull()))"
   ]
  },
  {
   "cell_type": "markdown",
   "metadata": {},
   "source": [
    "Unique values"
   ]
  },
  {
   "cell_type": "code",
   "execution_count": 4,
   "metadata": {},
   "outputs": [
    {
     "data": {
      "text/plain": [
       "Item_Identifier              1559\n",
       "Item_Weight                   416\n",
       "Item_Fat_Content                5\n",
       "Item_Visibility              7667\n",
       "Item_Type                      16\n",
       "Item_MRP                     5938\n",
       "Outlet_Identifier              10\n",
       "Outlet_Establishment_Year       9\n",
       "Outlet_Size                     4\n",
       "Outlet_Location_Type            3\n",
       "Outlet_Type                     4\n",
       "Item_Outlet_Sales            3493\n",
       "dtype: int64"
      ]
     },
     "execution_count": 4,
     "metadata": {},
     "output_type": "execute_result"
    }
   ],
   "source": [
    "bigmart.apply(lambda x: len(x.unique()))"
   ]
  },
  {
   "cell_type": "markdown",
   "metadata": {},
   "source": [
    "Filter categorical variables"
   ]
  },
  {
   "cell_type": "code",
   "execution_count": 5,
   "metadata": {},
   "outputs": [
    {
     "name": "stdout",
     "output_type": "stream",
     "text": [
      "\n",
      "Frequency of Categories for varible Item_Fat_Content\n",
      "Low Fat    5089\n",
      "Regular    2889\n",
      "LF          316\n",
      "reg         117\n",
      "low fat     112\n",
      "Name: Item_Fat_Content, dtype: int64\n",
      "\n",
      "Frequency of Categories for varible Item_Type\n",
      "Fruits and Vegetables    1232\n",
      "Snack Foods              1200\n",
      "Household                 910\n",
      "Frozen Foods              856\n",
      "Dairy                     682\n",
      "Canned                    649\n",
      "Baking Goods              648\n",
      "Health and Hygiene        520\n",
      "Soft Drinks               445\n",
      "Meat                      425\n",
      "Breads                    251\n",
      "Hard Drinks               214\n",
      "Others                    169\n",
      "Starchy Foods             148\n",
      "Breakfast                 110\n",
      "Seafood                    64\n",
      "Name: Item_Type, dtype: int64\n",
      "\n",
      "Frequency of Categories for varible Outlet_Size\n",
      "Medium    2793\n",
      "Small     2388\n",
      "High       932\n",
      "Name: Outlet_Size, dtype: int64\n",
      "\n",
      "Frequency of Categories for varible Outlet_Location_Type\n",
      "Tier 3    3350\n",
      "Tier 2    2785\n",
      "Tier 1    2388\n",
      "Name: Outlet_Location_Type, dtype: int64\n",
      "\n",
      "Frequency of Categories for varible Outlet_Type\n",
      "Supermarket Type1    5577\n",
      "Grocery Store        1083\n",
      "Supermarket Type3     935\n",
      "Supermarket Type2     928\n",
      "Name: Outlet_Type, dtype: int64\n"
     ]
    }
   ],
   "source": [
    "#Filter categorical variables\n",
    "categorical_columns = [x for x in bigmart.dtypes.index if bigmart.dtypes[x]=='object']\n",
    "#Exclude ID cols and source:\n",
    "categorical_columns = [x for x in categorical_columns if x not in ['Item_Identifier','Outlet_Identifier']]\n",
    "#Print frequency of categories\n",
    "for col in categorical_columns:\n",
    "    print ('\\nFrequency of Categories for varible %s'%col)\n",
    "    print (bigmart[col].value_counts())"
   ]
  },
  {
   "cell_type": "markdown",
   "metadata": {},
   "source": [
    "Correct 'Item Fat Count' parameter"
   ]
  },
  {
   "cell_type": "code",
   "execution_count": 6,
   "metadata": {},
   "outputs": [
    {
     "name": "stdout",
     "output_type": "stream",
     "text": [
      "Original Categories:\n",
      "Low Fat    5089\n",
      "Regular    2889\n",
      "LF          316\n",
      "reg         117\n",
      "low fat     112\n",
      "Name: Item_Fat_Content, dtype: int64\n",
      "\n",
      "Modified Categories:\n",
      "Low Fat    5517\n",
      "Regular    3006\n",
      "Name: Item_Fat_Content, dtype: int64\n"
     ]
    }
   ],
   "source": [
    "#Modify categories of Item_Fat_Content\n",
    "\n",
    "#Change categories of fat content:\n",
    "print ('Original Categories:')\n",
    "print (bigmart['Item_Fat_Content'].value_counts())\n",
    "\n",
    "print ('\\nModified Categories:')\n",
    "bigmart['Item_Fat_Content'] = bigmart['Item_Fat_Content'].replace({'LF':'Low Fat',\n",
    "                                                             'reg':'Regular',\n",
    "                                                             'low fat':'Low Fat'})\n",
    "print (bigmart['Item_Fat_Content'].value_counts())"
   ]
  },
  {
   "cell_type": "markdown",
   "metadata": {},
   "source": [
    "Data cleaning and feature engineering"
   ]
  },
  {
   "cell_type": "code",
   "execution_count": 7,
   "metadata": {},
   "outputs": [
    {
     "data": {
      "text/plain": [
       "<matplotlib.axes._subplots.AxesSubplot at 0x116cfc250>"
      ]
     },
     "execution_count": 7,
     "metadata": {},
     "output_type": "execute_result"
    },
    {
     "data": {
      "image/png": "[encoded data removed]",
      "text/plain": [
       "<matplotlib.figure.Figure at 0x116c42dd0>"
      ]
     },
     "metadata": {},
     "output_type": "display_data"
    }
   ],
   "source": [
    "#Distribution of Item_Weight\n",
    "\n",
    "%matplotlib inline \n",
    "\n",
    "\n",
    "## plot before imputing\n",
    "bigmart.Item_Weight.plot(kind='hist', edgecolor='black', figsize=(10,6), title='Histogram of Item_Weight')"
   ]
  },
  {
   "cell_type": "code",
   "execution_count": 8,
   "metadata": {},
   "outputs": [
    {
     "name": "stdout",
     "output_type": "stream",
     "text": [
      "Orignal #missing: 1463\n",
      "Final #missing: 4\n"
     ]
    }
   ],
   "source": [
    "#Determine the average weight per item:\n",
    "item_avg_weight = bigmart.groupby('Item_Identifier').Item_Weight.mean()\n",
    "\n",
    "#Get a boolean variable specifying missing Item_Weight values\n",
    "miss_bool = bigmart['Item_Weight'].isnull() \n",
    "\n",
    "#Impute data and check #missing values before and after imputation to confirm\n",
    "print ('Orignal #missing: %d'% sum(miss_bool))\n",
    "\n",
    "## replace na values with the average of the item_weight for that particular product\n",
    "bigmart.Item_Weight.fillna(0, inplace = True)\n",
    "for index, row in bigmart.iterrows():\n",
    "    if(row.Item_Weight == 0):\n",
    "        bigmart.loc[index, 'Item_Weight'] = item_avg_weight[row.Item_Identifier]\n",
    "        #print(item_avg_weight[row.Item_Identifier])\n",
    "\n",
    "print ('Final #missing: %d'% sum(bigmart['Item_Weight'].isnull()))"
   ]
  },
  {
   "cell_type": "code",
   "execution_count": 9,
   "metadata": {},
   "outputs": [
    {
     "name": "stdout",
     "output_type": "stream",
     "text": [
      "927     FDN52\n",
      "1922    FDK57\n",
      "4187    FDE52\n",
      "5022    FDQ60\n",
      "Name: Item_Identifier, dtype: object\n",
      "FDW13    10\n",
      "FDG33    10\n",
      "DRN47     9\n",
      "FDD38     9\n",
      "FDV60     9\n",
      "FDU12     9\n",
      "FDX04     9\n",
      "FDX20     9\n",
      "FDP25     9\n",
      "FDQ40     9\n",
      "NCI54     9\n",
      "FDG09     9\n",
      "FDT07     9\n",
      "NCJ30     9\n",
      "FDF52     9\n",
      "FDW26     9\n",
      "FDV38     9\n",
      "NCL31     9\n",
      "FDF56     9\n",
      "NCY18     9\n",
      "FDW49     9\n",
      "FDX31     9\n",
      "FDO19     9\n",
      "NCQ06     9\n",
      "DRE49     9\n",
      "NCB18     9\n",
      "NCF42     9\n",
      "NCK05     8\n",
      "FDG38     8\n",
      "FDY56     8\n",
      "         ..\n",
      "FDB10     2\n",
      "FDU43     2\n",
      "DRC24     2\n",
      "FDP15     2\n",
      "NCV18     2\n",
      "DRE01     2\n",
      "NCW30     2\n",
      "FDA48     2\n",
      "FDM38     2\n",
      "DRL59     2\n",
      "FDR57     2\n",
      "FDD48     2\n",
      "FDD22     2\n",
      "NCW05     2\n",
      "FDE38     2\n",
      "FDH22     2\n",
      "FDE39     2\n",
      "NCS41     2\n",
      "FDI36     2\n",
      "NCG19     2\n",
      "NCM42     2\n",
      "FDQ60     1\n",
      "FDO33     1\n",
      "FDC23     1\n",
      "FDY43     1\n",
      "FDN52     1\n",
      "FDT35     1\n",
      "DRF48     1\n",
      "FDK57     1\n",
      "FDE52     1\n",
      "Name: Item_Identifier, dtype: int64\n"
     ]
    }
   ],
   "source": [
    "print(bigmart[bigmart['Item_Weight'].isnull()]['Item_Identifier'])\n",
    "\n",
    "print(bigmart['Item_Identifier'].value_counts())\n",
    "# 4 items with 'Item_Weight' missing only appear once so we will drop them"
   ]
  },
  {
   "cell_type": "code",
   "execution_count": 10,
   "metadata": {},
   "outputs": [],
   "source": [
    "# drop 4 items without 'Item_Weight' value that only appear once\n",
    "\n",
    "bigmart = bigmart.drop(bigmart[(bigmart['Item_Identifier'] == 'FDN52') | (bigmart['Item_Identifier'] == 'FDK57') | (bigmart['Item_Identifier'] == 'FDE52') | (bigmart['Item_Identifier'] == 'FDQ60')].index)"
   ]
  },
  {
   "cell_type": "code",
   "execution_count": 11,
   "metadata": {},
   "outputs": [
    {
     "data": {
      "text/plain": [
       "<matplotlib.axes._subplots.AxesSubplot at 0x117386b10>"
      ]
     },
     "execution_count": 11,
     "metadata": {},
     "output_type": "execute_result"
    },
    {
     "data": {
      "image/png": "[encoded data removed]",
      "text/plain": [
       "<matplotlib.figure.Figure at 0x10d0fb2d0>"
      ]
     },
     "metadata": {},
     "output_type": "display_data"
    }
   ],
   "source": [
    "## plot after imputing\n",
    "bigmart.Item_Weight.plot(kind='hist', edgecolor='black', figsize=(10,6), title='Histogram of Item_Weight')\n",
    "\n"
   ]
  },
  {
   "cell_type": "code",
   "execution_count": 12,
   "metadata": {},
   "outputs": [
    {
     "data": {
      "text/plain": [
       "Outlet_Identifier  Outlet_Type        Outlet_Size\n",
       "OUT010             Grocery Store      NaN            555\n",
       "OUT013             Supermarket Type1  High           932\n",
       "OUT017             Supermarket Type1  NaN            926\n",
       "OUT018             Supermarket Type2  Medium         928\n",
       "OUT019             Grocery Store      Small          527\n",
       "OUT027             Supermarket Type3  Medium         932\n",
       "OUT035             Supermarket Type1  Small          930\n",
       "OUT045             Supermarket Type1  NaN            929\n",
       "OUT046             Supermarket Type1  Small          930\n",
       "OUT049             Supermarket Type1  Medium         930\n",
       "Name: Outlet_Size, dtype: int64"
      ]
     },
     "execution_count": 12,
     "metadata": {},
     "output_type": "execute_result"
    }
   ],
   "source": [
    "bigmart.groupby(['Outlet_Identifier', 'Outlet_Type']).Outlet_Size.value_counts(dropna=False)"
   ]
  },
  {
   "cell_type": "code",
   "execution_count": 13,
   "metadata": {},
   "outputs": [
    {
     "data": {
      "text/plain": [
       "Outlet_Type        Outlet_Size\n",
       "Grocery Store      NaN             555\n",
       "                   Small           527\n",
       "Supermarket Type1  Small          1860\n",
       "                   NaN            1855\n",
       "                   High            932\n",
       "                   Medium          930\n",
       "Supermarket Type2  Medium          928\n",
       "Supermarket Type3  Medium          932\n",
       "Name: Outlet_Size, dtype: int64"
      ]
     },
     "execution_count": 13,
     "metadata": {},
     "output_type": "execute_result"
    }
   ],
   "source": [
    "bigmart.groupby('Outlet_Type').Outlet_Size.value_counts(dropna=False)"
   ]
  },
  {
   "cell_type": "code",
   "execution_count": 14,
   "metadata": {
    "collapsed": true
   },
   "outputs": [],
   "source": [
    "# OUT010, OUT017 and OUT045 are small:\n",
    "\n",
    "bigmart.loc[bigmart.Outlet_Identifier.isin(['OUT010','OUT017','OUT045']), 'Outlet_Size'] = 'Small'"
   ]
  },
  {
   "cell_type": "markdown",
   "metadata": {},
   "source": [
    "Feature engineering"
   ]
  },
  {
   "cell_type": "code",
   "execution_count": 15,
   "metadata": {},
   "outputs": [
    {
     "data": {
      "text/plain": [
       "Item_Identifier                      DRA12\n",
       "Item_Weight                          4.555\n",
       "Item_Fat_Content                   Low Fat\n",
       "Item_Visibility                          0\n",
       "Item_Type                     Baking Goods\n",
       "Item_MRP                             31.29\n",
       "Outlet_Identifier                   OUT010\n",
       "Outlet_Establishment_Year             1985\n",
       "Outlet_Size                           High\n",
       "Outlet_Location_Type                Tier 1\n",
       "Outlet_Type                  Grocery Store\n",
       "Item_Outlet_Sales                    33.29\n",
       "dtype: object"
      ]
     },
     "execution_count": 15,
     "metadata": {},
     "output_type": "execute_result"
    }
   ],
   "source": [
    "bigmart.min()"
   ]
  },
  {
   "cell_type": "code",
   "execution_count": 16,
   "metadata": {},
   "outputs": [
    {
     "data": {
      "text/plain": [
       "<matplotlib.axes._subplots.AxesSubplot at 0x119d4c750>"
      ]
     },
     "execution_count": 16,
     "metadata": {},
     "output_type": "execute_result"
    },
    {
     "data": {
      "image/png": "[encoded data removed]",
      "text/plain": [
       "<matplotlib.figure.Figure at 0x1173aa050>"
      ]
     },
     "metadata": {},
     "output_type": "display_data"
    }
   ],
   "source": [
    "bigmart.Item_Visibility.plot(kind='hist', edgecolor='black', figsize=(10,6), title='Histogram of Item_Visibility')"
   ]
  },
  {
   "cell_type": "code",
   "execution_count": 17,
   "metadata": {},
   "outputs": [
    {
     "data": {
      "text/plain": [
       "count    8519.000000\n",
       "mean        0.070732\n",
       "std         0.050301\n",
       "min         0.003575\n",
       "25%         0.031395\n",
       "50%         0.058093\n",
       "75%         0.098819\n",
       "max         0.328391\n",
       "Name: Item_Visibility, dtype: float64"
      ]
     },
     "execution_count": 17,
     "metadata": {},
     "output_type": "execute_result"
    }
   ],
   "source": [
    "# Replace '0' with group mean because a visibility of '0' doesn't make sense\n",
    "\n",
    "bigmart.loc[bigmart.Item_Visibility == 0, 'Item_Visibility'] = np.nan\n",
    "\n",
    "IV_mean = bigmart.groupby('Item_Identifier').Item_Visibility.mean()\n",
    "\n",
    "bigmart.Item_Visibility.fillna(0, inplace=True)\n",
    "#replace 0 with group mean\n",
    "\n",
    "for index, row in bigmart.iterrows():\n",
    "    if(row.Item_Visibility == 0):\n",
    "        bigmart.loc[index, 'Item_Visibility'] = IV_mean[row.Item_Identifier]\n",
    "        \n",
    "bigmart.Item_Visibility.describe()"
   ]
  },
  {
   "cell_type": "code",
   "execution_count": 18,
   "metadata": {},
   "outputs": [
    {
     "data": {
      "text/plain": [
       "count    8519.000000\n",
       "mean       20.162108\n",
       "std         8.369105\n",
       "min         9.000000\n",
       "25%        14.000000\n",
       "50%        19.000000\n",
       "75%        31.000000\n",
       "max        33.000000\n",
       "Name: Outlet_Years, dtype: float64"
      ]
     },
     "execution_count": 18,
     "metadata": {},
     "output_type": "execute_result"
    }
   ],
   "source": [
    "# Add years of operation of a store\n",
    "\n",
    "bigmart['Outlet_Years'] = 2018 - bigmart['Outlet_Establishment_Year']\n",
    "bigmart.Outlet_Years.describe()"
   ]
  },
  {
   "cell_type": "code",
   "execution_count": 19,
   "metadata": {},
   "outputs": [
    {
     "data": {
      "text/plain": [
       "Food              6121\n",
       "Non-Consumable    1599\n",
       "Drinks             799\n",
       "Name: Item_Type_Combined, dtype: int64"
      ]
     },
     "execution_count": 19,
     "metadata": {},
     "output_type": "execute_result"
    }
   ],
   "source": [
    "# Create a broad category of Type of item\n",
    "\n",
    "bigmart['Item_Type_Combined'] = bigmart['Item_Identifier'].apply(lambda x: x[0:2])\n",
    "\n",
    "bigmart['Item_Type_Combined'] = bigmart['Item_Type_Combined'].map({'FD':'Food',\n",
    "                                                                  'DR': 'Drinks',\n",
    "                                                                  'NC': 'Non-Consumable'})\n",
    "\n",
    "bigmart['Item_Type_Combined'].value_counts()"
   ]
  },
  {
   "cell_type": "code",
   "execution_count": 20,
   "metadata": {},
   "outputs": [
    {
     "data": {
      "text/plain": [
       "Low Fat       3917\n",
       "Regular       3003\n",
       "Non-Edible    1599\n",
       "Name: Item_Fat_Content, dtype: int64"
      ]
     },
     "execution_count": 20,
     "metadata": {},
     "output_type": "execute_result"
    }
   ],
   "source": [
    "# Impute 'Non-Edible' when 'Item_fat_Content' is Non-Edible\n",
    "\n",
    "bigmart.loc[bigmart['Item_Type_Combined']==\"Non-Consumable\",'Item_Fat_Content'] = \"Non-Edible\"\n",
    "bigmart['Item_Fat_Content'].value_counts()"
   ]
  },
  {
   "cell_type": "code",
   "execution_count": 21,
   "metadata": {
    "collapsed": true
   },
   "outputs": [],
   "source": [
    "#Import library:\n",
    "from sklearn.preprocessing import LabelEncoder\n",
    "le = LabelEncoder()\n",
    "#New variable for outlet\n",
    "bigmart['Outlet'] = le.fit_transform(bigmart['Outlet_Identifier'])\n",
    "var_mod = ['Item_Fat_Content','Outlet_Location_Type','Outlet_Size','Item_Type_Combined','Outlet_Type','Outlet']\n",
    "le = LabelEncoder()\n",
    "for i in var_mod:\n",
    "    bigmart[i] = le.fit_transform(bigmart[i])"
   ]
  },
  {
   "cell_type": "code",
   "execution_count": 22,
   "metadata": {},
   "outputs": [],
   "source": [
    "#One Hot encoding\n",
    "bigmart = pd.get_dummies(bigmart, columns=['Item_Fat_Content','Outlet_Location_Type','Outlet_Size','Outlet_Type',\n",
    "                              'Item_Type_Combined', 'Outlet_Identifier', 'Outlet' ])"
   ]
  },
  {
   "cell_type": "code",
   "execution_count": 23,
   "metadata": {},
   "outputs": [
    {
     "data": {
      "text/plain": [
       "Item_Identifier               object\n",
       "Item_Weight                  float64\n",
       "Item_Visibility              float64\n",
       "Item_Type                     object\n",
       "Item_MRP                     float64\n",
       "Outlet_Establishment_Year      int64\n",
       "Item_Outlet_Sales            float64\n",
       "Outlet_Years                   int64\n",
       "Item_Fat_Content_0             uint8\n",
       "Item_Fat_Content_1             uint8\n",
       "Item_Fat_Content_2             uint8\n",
       "Outlet_Location_Type_0         uint8\n",
       "Outlet_Location_Type_1         uint8\n",
       "Outlet_Location_Type_2         uint8\n",
       "Outlet_Size_0                  uint8\n",
       "Outlet_Size_1                  uint8\n",
       "Outlet_Size_2                  uint8\n",
       "Outlet_Type_0                  uint8\n",
       "Outlet_Type_1                  uint8\n",
       "Outlet_Type_2                  uint8\n",
       "Outlet_Type_3                  uint8\n",
       "Item_Type_Combined_0           uint8\n",
       "Item_Type_Combined_1           uint8\n",
       "Item_Type_Combined_2           uint8\n",
       "Outlet_Identifier_OUT010       uint8\n",
       "Outlet_Identifier_OUT013       uint8\n",
       "Outlet_Identifier_OUT017       uint8\n",
       "Outlet_Identifier_OUT018       uint8\n",
       "Outlet_Identifier_OUT019       uint8\n",
       "Outlet_Identifier_OUT027       uint8\n",
       "Outlet_Identifier_OUT035       uint8\n",
       "Outlet_Identifier_OUT045       uint8\n",
       "Outlet_Identifier_OUT046       uint8\n",
       "Outlet_Identifier_OUT049       uint8\n",
       "Outlet_0                       uint8\n",
       "Outlet_1                       uint8\n",
       "Outlet_2                       uint8\n",
       "Outlet_3                       uint8\n",
       "Outlet_4                       uint8\n",
       "Outlet_5                       uint8\n",
       "Outlet_6                       uint8\n",
       "Outlet_7                       uint8\n",
       "Outlet_8                       uint8\n",
       "Outlet_9                       uint8\n",
       "dtype: object"
      ]
     },
     "execution_count": 23,
     "metadata": {},
     "output_type": "execute_result"
    }
   ],
   "source": [
    "bigmart.dtypes"
   ]
  },
  {
   "cell_type": "code",
   "execution_count": 24,
   "metadata": {},
   "outputs": [],
   "source": [
    "bigmart.drop(['Item_Type', 'Outlet_Establishment_Year', 'Item_Identifier'], axis=1, inplace=True)"
   ]
  },
  {
   "cell_type": "code",
   "execution_count": 25,
   "metadata": {},
   "outputs": [
    {
     "data": {
      "text/plain": [
       "Item_Weight                 0\n",
       "Item_Visibility             0\n",
       "Item_MRP                    0\n",
       "Item_Outlet_Sales           0\n",
       "Outlet_Years                0\n",
       "Item_Fat_Content_0          0\n",
       "Item_Fat_Content_1          0\n",
       "Item_Fat_Content_2          0\n",
       "Outlet_Location_Type_0      0\n",
       "Outlet_Location_Type_1      0\n",
       "Outlet_Location_Type_2      0\n",
       "Outlet_Size_0               0\n",
       "Outlet_Size_1               0\n",
       "Outlet_Size_2               0\n",
       "Outlet_Type_0               0\n",
       "Outlet_Type_1               0\n",
       "Outlet_Type_2               0\n",
       "Outlet_Type_3               0\n",
       "Item_Type_Combined_0        0\n",
       "Item_Type_Combined_1        0\n",
       "Item_Type_Combined_2        0\n",
       "Outlet_Identifier_OUT010    0\n",
       "Outlet_Identifier_OUT013    0\n",
       "Outlet_Identifier_OUT017    0\n",
       "Outlet_Identifier_OUT018    0\n",
       "Outlet_Identifier_OUT019    0\n",
       "Outlet_Identifier_OUT027    0\n",
       "Outlet_Identifier_OUT035    0\n",
       "Outlet_Identifier_OUT045    0\n",
       "Outlet_Identifier_OUT046    0\n",
       "Outlet_Identifier_OUT049    0\n",
       "Outlet_0                    0\n",
       "Outlet_1                    0\n",
       "Outlet_2                    0\n",
       "Outlet_3                    0\n",
       "Outlet_4                    0\n",
       "Outlet_5                    0\n",
       "Outlet_6                    0\n",
       "Outlet_7                    0\n",
       "Outlet_8                    0\n",
       "Outlet_9                    0\n",
       "dtype: int64"
      ]
     },
     "execution_count": 25,
     "metadata": {},
     "output_type": "execute_result"
    }
   ],
   "source": [
    "bigmart.apply(lambda x: sum(x.isnull()))"
   ]
  },
  {
   "cell_type": "code",
   "execution_count": 26,
   "metadata": {},
   "outputs": [
    {
     "name": "stdout",
     "output_type": "stream",
     "text": [
      "(8519,)\n",
      "(8519, 40)\n"
     ]
    }
   ],
   "source": [
    "y = bigmart['Item_Outlet_Sales']\n",
    "X = bigmart.drop('Item_Outlet_Sales', axis=1)\n",
    "print(y.shape)\n",
    "print(X.shape)"
   ]
  },
  {
   "cell_type": "markdown",
   "metadata": {},
   "source": [
    "# Models"
   ]
  },
  {
   "cell_type": "code",
   "execution_count": 27,
   "metadata": {
    "collapsed": true
   },
   "outputs": [],
   "source": [
    "# modules\n",
    "from sklearn.model_selection import train_test_split"
   ]
  },
  {
   "cell_type": "code",
   "execution_count": 31,
   "metadata": {},
   "outputs": [
    {
     "name": "stdout",
     "output_type": "stream",
     "text": [
      "train accuracy is 0.563372\n",
      "test accuracy is 0.561681\n"
     ]
    }
   ],
   "source": [
    "# Linear regression\n",
    "\n",
    "from sklearn.linear_model import LinearRegression\n",
    "X_train, X_test, y_train, y_test = train_test_split(X, y)\n",
    "Lr = LinearRegression()\n",
    "\n",
    "Lr.fit(X_train, y_train)\n",
    "print('train accuracy is %f' % Lr.score(X_train, y_train))\n",
    "print('test accuracy is %f' % Lr.score(X_test, y_test))"
   ]
  },
  {
   "cell_type": "code",
   "execution_count": 35,
   "metadata": {},
   "outputs": [
    {
     "name": "stdout",
     "output_type": "stream",
     "text": [
      "train accuracy is 0.564044\n",
      "test accuracy is 0.559851\n"
     ]
    }
   ],
   "source": [
    "# Linear regression\n",
    "\n",
    "from sklearn.linear_model import Ridge\n",
    "X_train, X_test, y_train, y_test = train_test_split(X, y)\n",
    "ridge = Ridge(alpha=0.1)\n",
    "\n",
    "ridge.fit(X_train, y_train)\n",
    "print('train accuracy is %f' % ridge.score(X_train, y_train))\n",
    "print('test accuracy is %f' % ridge.score(X_test, y_test))"
   ]
  }
 ],
 "metadata": {
  "kernelspec": {
   "display_name": "Python 2",
   "language": "python",
   "name": "python2"
  },
  "language_info": {
   "codemirror_mode": {
    "name": "ipython",
    "version": 2
   },
   "file_extension": ".py",
   "mimetype": "text/x-python",
   "name": "python",
   "nbconvert_exporter": "python",
   "pygments_lexer": "ipython2",
   "version": "2.7.13"
  }
 },
 "nbformat": 4,
 "nbformat_minor": 2
}
